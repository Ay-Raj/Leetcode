{
  "nbformat": 4,
  "nbformat_minor": 0,
  "metadata": {
    "colab": {
      "name": "Matrix-Factorization-Model.ipynb",
      "provenance": [],
      "authorship_tag": "ABX9TyNInswi/XdK/mdtFIKJTEbF",
      "include_colab_link": true
    },
    "kernelspec": {
      "name": "python3",
      "display_name": "Python 3"
    },
    "language_info": {
      "name": "python"
    }
  },
  "cells": [
    {
      "cell_type": "markdown",
      "metadata": {
        "id": "view-in-github",
        "colab_type": "text"
      },
      "source": [
        "<a href=\"https://colab.research.google.com/github/Ay-Raj/Leetcode/blob/main/Matrix_Factorization_Model.ipynb\" target=\"_parent\"><img src=\"https://colab.research.google.com/assets/colab-badge.svg\" alt=\"Open In Colab\"/></a>"
      ]
    },
    {
      "cell_type": "code",
      "execution_count": null,
      "metadata": {
        "colab": {
          "base_uri": "https://localhost:8080/"
        },
        "id": "ZscYETDJT09-",
        "outputId": "dbfc183c-a2dc-4e26-bca7-49a51fb773d4"
      },
      "outputs": [
        {
          "output_type": "stream",
          "name": "stdout",
          "text": [
            "Looking in indexes: https://pypi.org/simple, https://us-python.pkg.dev/colab-wheels/public/simple/\n",
            "Collecting scikit-surprise\n",
            "  Downloading scikit-surprise-1.1.1.tar.gz (11.8 MB)\n",
            "\u001b[K     |████████████████████████████████| 11.8 MB 5.8 MB/s \n",
            "\u001b[?25hRequirement already satisfied: joblib>=0.11 in /usr/local/lib/python3.7/dist-packages (from scikit-surprise) (1.1.0)\n",
            "Requirement already satisfied: numpy>=1.11.2 in /usr/local/lib/python3.7/dist-packages (from scikit-surprise) (1.21.6)\n",
            "Requirement already satisfied: scipy>=1.0.0 in /usr/local/lib/python3.7/dist-packages (from scikit-surprise) (1.4.1)\n",
            "Requirement already satisfied: six>=1.10.0 in /usr/local/lib/python3.7/dist-packages (from scikit-surprise) (1.15.0)\n",
            "Building wheels for collected packages: scikit-surprise\n",
            "  Building wheel for scikit-surprise (setup.py) ... \u001b[?25l\u001b[?25hdone\n",
            "  Created wheel for scikit-surprise: filename=scikit_surprise-1.1.1-cp37-cp37m-linux_x86_64.whl size=1633724 sha256=806d9c925dae1e9238f1c25b6675c291b6f2effd32f857a33d4e967c47c55cdf\n",
            "  Stored in directory: /root/.cache/pip/wheels/76/44/74/b498c42be47b2406bd27994e16c5188e337c657025ab400c1c\n",
            "Successfully built scikit-surprise\n",
            "Installing collected packages: scikit-surprise\n",
            "Successfully installed scikit-surprise-1.1.1\n"
          ]
        }
      ],
      "source": [
        "!pip install scikit-surprise"
      ]
    },
    {
      "cell_type": "code",
      "source": [
        "import pandas as pd\n",
        "from heapq import nlargest\n",
        "import random\n",
        "from surprise import NormalPredictor\n",
        "from surprise import Dataset\n",
        "from surprise import Reader\n",
        "from surprise import SVD\n",
        "from surprise import SVDpp\n",
        "from surprise import KNNBasic\n",
        "from surprise.model_selection import cross_validate\n",
        "import pandas as pd\n",
        "import gensim\n",
        "import numpy as np\n",
        "import nltk\n",
        "from nltk.corpus import stopwords\n",
        "from textblob import Word, TextBlob"
      ],
      "metadata": {
        "id": "qHpWOI2EUb63"
      },
      "execution_count": null,
      "outputs": []
    },
    {
      "cell_type": "code",
      "source": [
        "data = pd.read_csv('temp7.csv')"
      ],
      "metadata": {
        "id": "RLa9uTi_Uv9L"
      },
      "execution_count": null,
      "outputs": []
    },
    {
      "cell_type": "code",
      "source": [
        "data.dropna(inplace=True)"
      ],
      "metadata": {
        "id": "1zvgt6hpUx8j"
      },
      "execution_count": null,
      "outputs": []
    },
    {
      "cell_type": "code",
      "source": [
        "data.head()"
      ],
      "metadata": {
        "colab": {
          "base_uri": "https://localhost:8080/",
          "height": 206
        },
        "id": "KtgqB7B8U0l2",
        "outputId": "58fcd312-2176-488d-e7ab-cb20ce854352"
      },
      "execution_count": null,
      "outputs": [
        {
          "output_type": "execute_result",
          "data": {
            "text/plain": [
              "   user_id meal_ingredients   size\n",
              "0     1821           coffee  411.0\n",
              "1     1821           cheese  374.0\n",
              "2     1821            beans  349.0\n",
              "3     1821             rice  333.0\n",
              "4     1821          chicken  320.0"
            ],
            "text/html": [
              "\n",
              "  <div id=\"df-de1a08a0-87f4-497a-9159-ba6acf133407\">\n",
              "    <div class=\"colab-df-container\">\n",
              "      <div>\n",
              "<style scoped>\n",
              "    .dataframe tbody tr th:only-of-type {\n",
              "        vertical-align: middle;\n",
              "    }\n",
              "\n",
              "    .dataframe tbody tr th {\n",
              "        vertical-align: top;\n",
              "    }\n",
              "\n",
              "    .dataframe thead th {\n",
              "        text-align: right;\n",
              "    }\n",
              "</style>\n",
              "<table border=\"1\" class=\"dataframe\">\n",
              "  <thead>\n",
              "    <tr style=\"text-align: right;\">\n",
              "      <th></th>\n",
              "      <th>user_id</th>\n",
              "      <th>meal_ingredients</th>\n",
              "      <th>size</th>\n",
              "    </tr>\n",
              "  </thead>\n",
              "  <tbody>\n",
              "    <tr>\n",
              "      <th>0</th>\n",
              "      <td>1821</td>\n",
              "      <td>coffee</td>\n",
              "      <td>411.0</td>\n",
              "    </tr>\n",
              "    <tr>\n",
              "      <th>1</th>\n",
              "      <td>1821</td>\n",
              "      <td>cheese</td>\n",
              "      <td>374.0</td>\n",
              "    </tr>\n",
              "    <tr>\n",
              "      <th>2</th>\n",
              "      <td>1821</td>\n",
              "      <td>beans</td>\n",
              "      <td>349.0</td>\n",
              "    </tr>\n",
              "    <tr>\n",
              "      <th>3</th>\n",
              "      <td>1821</td>\n",
              "      <td>rice</td>\n",
              "      <td>333.0</td>\n",
              "    </tr>\n",
              "    <tr>\n",
              "      <th>4</th>\n",
              "      <td>1821</td>\n",
              "      <td>chicken</td>\n",
              "      <td>320.0</td>\n",
              "    </tr>\n",
              "  </tbody>\n",
              "</table>\n",
              "</div>\n",
              "      <button class=\"colab-df-convert\" onclick=\"convertToInteractive('df-de1a08a0-87f4-497a-9159-ba6acf133407')\"\n",
              "              title=\"Convert this dataframe to an interactive table.\"\n",
              "              style=\"display:none;\">\n",
              "        \n",
              "  <svg xmlns=\"http://www.w3.org/2000/svg\" height=\"24px\"viewBox=\"0 0 24 24\"\n",
              "       width=\"24px\">\n",
              "    <path d=\"M0 0h24v24H0V0z\" fill=\"none\"/>\n",
              "    <path d=\"M18.56 5.44l.94 2.06.94-2.06 2.06-.94-2.06-.94-.94-2.06-.94 2.06-2.06.94zm-11 1L8.5 8.5l.94-2.06 2.06-.94-2.06-.94L8.5 2.5l-.94 2.06-2.06.94zm10 10l.94 2.06.94-2.06 2.06-.94-2.06-.94-.94-2.06-.94 2.06-2.06.94z\"/><path d=\"M17.41 7.96l-1.37-1.37c-.4-.4-.92-.59-1.43-.59-.52 0-1.04.2-1.43.59L10.3 9.45l-7.72 7.72c-.78.78-.78 2.05 0 2.83L4 21.41c.39.39.9.59 1.41.59.51 0 1.02-.2 1.41-.59l7.78-7.78 2.81-2.81c.8-.78.8-2.07 0-2.86zM5.41 20L4 18.59l7.72-7.72 1.47 1.35L5.41 20z\"/>\n",
              "  </svg>\n",
              "      </button>\n",
              "      \n",
              "  <style>\n",
              "    .colab-df-container {\n",
              "      display:flex;\n",
              "      flex-wrap:wrap;\n",
              "      gap: 12px;\n",
              "    }\n",
              "\n",
              "    .colab-df-convert {\n",
              "      background-color: #E8F0FE;\n",
              "      border: none;\n",
              "      border-radius: 50%;\n",
              "      cursor: pointer;\n",
              "      display: none;\n",
              "      fill: #1967D2;\n",
              "      height: 32px;\n",
              "      padding: 0 0 0 0;\n",
              "      width: 32px;\n",
              "    }\n",
              "\n",
              "    .colab-df-convert:hover {\n",
              "      background-color: #E2EBFA;\n",
              "      box-shadow: 0px 1px 2px rgba(60, 64, 67, 0.3), 0px 1px 3px 1px rgba(60, 64, 67, 0.15);\n",
              "      fill: #174EA6;\n",
              "    }\n",
              "\n",
              "    [theme=dark] .colab-df-convert {\n",
              "      background-color: #3B4455;\n",
              "      fill: #D2E3FC;\n",
              "    }\n",
              "\n",
              "    [theme=dark] .colab-df-convert:hover {\n",
              "      background-color: #434B5C;\n",
              "      box-shadow: 0px 1px 3px 1px rgba(0, 0, 0, 0.15);\n",
              "      filter: drop-shadow(0px 1px 2px rgba(0, 0, 0, 0.3));\n",
              "      fill: #FFFFFF;\n",
              "    }\n",
              "  </style>\n",
              "\n",
              "      <script>\n",
              "        const buttonEl =\n",
              "          document.querySelector('#df-de1a08a0-87f4-497a-9159-ba6acf133407 button.colab-df-convert');\n",
              "        buttonEl.style.display =\n",
              "          google.colab.kernel.accessAllowed ? 'block' : 'none';\n",
              "\n",
              "        async function convertToInteractive(key) {\n",
              "          const element = document.querySelector('#df-de1a08a0-87f4-497a-9159-ba6acf133407');\n",
              "          const dataTable =\n",
              "            await google.colab.kernel.invokeFunction('convertToInteractive',\n",
              "                                                     [key], {});\n",
              "          if (!dataTable) return;\n",
              "\n",
              "          const docLinkHtml = 'Like what you see? Visit the ' +\n",
              "            '<a target=\"_blank\" href=https://colab.research.google.com/notebooks/data_table.ipynb>data table notebook</a>'\n",
              "            + ' to learn more about interactive tables.';\n",
              "          element.innerHTML = '';\n",
              "          dataTable['output_type'] = 'display_data';\n",
              "          await google.colab.output.renderOutput(dataTable, element);\n",
              "          const docLink = document.createElement('div');\n",
              "          docLink.innerHTML = docLinkHtml;\n",
              "          element.appendChild(docLink);\n",
              "        }\n",
              "      </script>\n",
              "    </div>\n",
              "  </div>\n",
              "  "
            ]
          },
          "metadata": {},
          "execution_count": 6
        }
      ]
    },
    {
      "cell_type": "code",
      "source": [
        "data.info()"
      ],
      "metadata": {
        "colab": {
          "base_uri": "https://localhost:8080/"
        },
        "id": "I-9mWmfRU1c_",
        "outputId": "c3111c8d-c8d3-47d8-c9fe-f76ce6d5b3dd"
      },
      "execution_count": null,
      "outputs": [
        {
          "output_type": "stream",
          "name": "stdout",
          "text": [
            "<class 'pandas.core.frame.DataFrame'>\n",
            "Int64Index: 5947 entries, 0 to 5947\n",
            "Data columns (total 3 columns):\n",
            " #   Column            Non-Null Count  Dtype  \n",
            "---  ------            --------------  -----  \n",
            " 0   user_id           5947 non-null   int64  \n",
            " 1   meal_ingredients  5947 non-null   object \n",
            " 2   size              5947 non-null   float64\n",
            "dtypes: float64(1), int64(1), object(1)\n",
            "memory usage: 185.8+ KB\n"
          ]
        }
      ]
    },
    {
      "cell_type": "code",
      "source": [
        "data.drop(data[data['size'] > 141].index, inplace = True)"
      ],
      "metadata": {
        "id": "WxaRzD-oWZCi"
      },
      "execution_count": null,
      "outputs": []
    },
    {
      "cell_type": "code",
      "source": [
        "from surprise import Dataset\n",
        "from surprise import Reader\n",
        "reader = Reader(rating_scale=(1, 141))\n",
        "data1 = Dataset.load_from_df(data[['user_id', 'meal_ingredients', 'size']], reader)"
      ],
      "metadata": {
        "id": "YW2GZjV0U-RY"
      },
      "execution_count": null,
      "outputs": []
    },
    {
      "cell_type": "code",
      "source": [
        "from surprise import SVD\n",
        "from surprise.model_selection import cross_validate\n",
        "svd = SVD(verbose=True, n_epochs=18)\n",
        "cross_validate(svd, data1, measures=['RMSE', 'MAE'], cv=3, verbose=True)"
      ],
      "metadata": {
        "colab": {
          "base_uri": "https://localhost:8080/"
        },
        "id": "81ZmXUcHVFGI",
        "outputId": "9f559923-173c-4d91-b49d-55317be5970f"
      },
      "execution_count": null,
      "outputs": [
        {
          "output_type": "stream",
          "name": "stdout",
          "text": [
            "Processing epoch 0\n",
            "Processing epoch 1\n",
            "Processing epoch 2\n",
            "Processing epoch 3\n",
            "Processing epoch 4\n",
            "Processing epoch 5\n",
            "Processing epoch 6\n",
            "Processing epoch 7\n",
            "Processing epoch 8\n",
            "Processing epoch 9\n",
            "Processing epoch 10\n",
            "Processing epoch 11\n",
            "Processing epoch 12\n",
            "Processing epoch 13\n",
            "Processing epoch 14\n",
            "Processing epoch 15\n",
            "Processing epoch 16\n",
            "Processing epoch 17\n",
            "Processing epoch 0\n",
            "Processing epoch 1\n",
            "Processing epoch 2\n",
            "Processing epoch 3\n",
            "Processing epoch 4\n",
            "Processing epoch 5\n",
            "Processing epoch 6\n",
            "Processing epoch 7\n",
            "Processing epoch 8\n",
            "Processing epoch 9\n",
            "Processing epoch 10\n",
            "Processing epoch 11\n",
            "Processing epoch 12\n",
            "Processing epoch 13\n",
            "Processing epoch 14\n",
            "Processing epoch 15\n",
            "Processing epoch 16\n",
            "Processing epoch 17\n",
            "Processing epoch 0\n",
            "Processing epoch 1\n",
            "Processing epoch 2\n",
            "Processing epoch 3\n",
            "Processing epoch 4\n",
            "Processing epoch 5\n",
            "Processing epoch 6\n",
            "Processing epoch 7\n",
            "Processing epoch 8\n",
            "Processing epoch 9\n",
            "Processing epoch 10\n",
            "Processing epoch 11\n",
            "Processing epoch 12\n",
            "Processing epoch 13\n",
            "Processing epoch 14\n",
            "Processing epoch 15\n",
            "Processing epoch 16\n",
            "Processing epoch 17\n",
            "Evaluating RMSE, MAE of algorithm SVD on 3 split(s).\n",
            "\n",
            "                  Fold 1  Fold 2  Fold 3  Mean    Std     \n",
            "RMSE (testset)    9.8521  11.0709 11.0683 10.6638 0.5739  \n",
            "MAE (testset)     5.3462  5.3401  5.1942  5.2935  0.0703  \n",
            "Fit time          0.22    0.24    0.24    0.23    0.01    \n",
            "Test time         0.02    0.02    0.01    0.02    0.00    \n"
          ]
        },
        {
          "output_type": "execute_result",
          "data": {
            "text/plain": [
              "{'fit_time': (0.22437357902526855, 0.2389979362487793, 0.2400519847869873),\n",
              " 'test_mae': array([5.34616657, 5.34013481, 5.19418289]),\n",
              " 'test_rmse': array([ 9.85212991, 11.07087282, 11.0683422 ]),\n",
              " 'test_time': (0.022291183471679688,\n",
              "  0.015048980712890625,\n",
              "  0.014024496078491211)}"
            ]
          },
          "metadata": {},
          "execution_count": 20
        }
      ]
    },
    {
      "cell_type": "code",
      "source": [
        "trainset = data1.build_full_trainset()\n",
        "svd.fit(trainset)"
      ],
      "metadata": {
        "colab": {
          "base_uri": "https://localhost:8080/"
        },
        "id": "3JAfluONXKCl",
        "outputId": "f39de822-26d1-4b5a-8ee5-1f6034831488"
      },
      "execution_count": null,
      "outputs": [
        {
          "output_type": "stream",
          "name": "stdout",
          "text": [
            "Processing epoch 0\n",
            "Processing epoch 1\n",
            "Processing epoch 2\n",
            "Processing epoch 3\n",
            "Processing epoch 4\n",
            "Processing epoch 5\n",
            "Processing epoch 6\n",
            "Processing epoch 7\n",
            "Processing epoch 8\n",
            "Processing epoch 9\n",
            "Processing epoch 10\n",
            "Processing epoch 11\n",
            "Processing epoch 12\n",
            "Processing epoch 13\n",
            "Processing epoch 14\n",
            "Processing epoch 15\n",
            "Processing epoch 16\n",
            "Processing epoch 17\n"
          ]
        },
        {
          "output_type": "execute_result",
          "data": {
            "text/plain": [
              "<surprise.prediction_algorithms.matrix_factorization.SVD at 0x7f076fe62c90>"
            ]
          },
          "metadata": {},
          "execution_count": 21
        }
      ]
    },
    {
      "cell_type": "code",
      "source": [
        "df1 = pd.read_excel('Meals_w_Goals_deid_snapshot.xlsx')"
      ],
      "metadata": {
        "id": "nk8xqY8BXPnF"
      },
      "execution_count": null,
      "outputs": []
    },
    {
      "cell_type": "code",
      "source": [
        "df1.head()"
      ],
      "metadata": {
        "colab": {
          "base_uri": "https://localhost:8080/",
          "height": 444
        },
        "id": "5sE1cDREXZ_w",
        "outputId": "54f7718b-bd2a-4009-aee2-a40b073a884f"
      },
      "execution_count": null,
      "outputs": [
        {
          "output_type": "execute_result",
          "data": {
            "text/plain": [
              "   goal_id        goal_short_name expert_assessment  user_id preferred_locale  \\\n",
              "0       23  choose_plant_proteins        not_really     1660               en   \n",
              "1       43  choose_plant_proteins        not_really     2068               en   \n",
              "2       43  choose_plant_proteins        not_really     2068               en   \n",
              "3       43  choose_plant_proteins        not_really     2068               en   \n",
              "4       43  choose_plant_proteins        not_really     2068               en   \n",
              "\n",
              "   meal_id        meal_type                         meal_title  \\\n",
              "0     9282  afternoon_snack                            Pretzel   \n",
              "1     3391           dinner           Salad with turkey burger   \n",
              "2     3405            lunch              Quinoa and vegetables   \n",
              "3     3415           dinner      Chicken with mixed vegetables   \n",
              "4     3424            lunch  Salad ,sweet potatoes and avocado   \n",
              "\n",
              "           meal_ingredients  \\\n",
              "0                   Pretzel   \n",
              "1       Turkey burger salad   \n",
              "2     Quinoa and vegetables   \n",
              "3         Chicken and salad   \n",
              "4  Salad and sweet potatoes   \n",
              "\n",
              "                                  expert_explanation  carbs_grams  \\\n",
              "0                                                NaN         71.0   \n",
              "1  This goal is not met because there are no plan...          6.0   \n",
              "2  This goal is not met because there are no plan...         44.0   \n",
              "3  This goal is not met because there is no plant...          9.0   \n",
              "4  This goal is not met because there are no plan...         51.0   \n",
              "\n",
              "   protein_grams  fat_grams  fiber_grams  calories carbs_RD_explanation  \\\n",
              "0            8.0        3.0          3.0     342.0                  NaN   \n",
              "1           23.0       14.0          3.0     251.0                   na   \n",
              "2            8.0       12.0          6.0     306.0                  NaN   \n",
              "3           24.0        7.0          3.0     142.0                   na   \n",
              "4            4.0       11.0         13.0     300.0                   na   \n",
              "\n",
              "  protein_RD_explanation fat_RD_explanation fiber_RD_explanation  \\\n",
              "0                    NaN                NaN                  NaN   \n",
              "1                     na                 na                   na   \n",
              "2                     na                 na                   na   \n",
              "3                     na                 na                   na   \n",
              "4                     na                 na                   na   \n",
              "\n",
              "  calories_RD_explanation  \n",
              "0                     NaN  \n",
              "1                      na  \n",
              "2                      na  \n",
              "3                      na  \n",
              "4                      na  "
            ],
            "text/html": [
              "\n",
              "  <div id=\"df-33786cc8-d541-4dc7-806d-8f2f5f57763e\">\n",
              "    <div class=\"colab-df-container\">\n",
              "      <div>\n",
              "<style scoped>\n",
              "    .dataframe tbody tr th:only-of-type {\n",
              "        vertical-align: middle;\n",
              "    }\n",
              "\n",
              "    .dataframe tbody tr th {\n",
              "        vertical-align: top;\n",
              "    }\n",
              "\n",
              "    .dataframe thead th {\n",
              "        text-align: right;\n",
              "    }\n",
              "</style>\n",
              "<table border=\"1\" class=\"dataframe\">\n",
              "  <thead>\n",
              "    <tr style=\"text-align: right;\">\n",
              "      <th></th>\n",
              "      <th>goal_id</th>\n",
              "      <th>goal_short_name</th>\n",
              "      <th>expert_assessment</th>\n",
              "      <th>user_id</th>\n",
              "      <th>preferred_locale</th>\n",
              "      <th>meal_id</th>\n",
              "      <th>meal_type</th>\n",
              "      <th>meal_title</th>\n",
              "      <th>meal_ingredients</th>\n",
              "      <th>expert_explanation</th>\n",
              "      <th>carbs_grams</th>\n",
              "      <th>protein_grams</th>\n",
              "      <th>fat_grams</th>\n",
              "      <th>fiber_grams</th>\n",
              "      <th>calories</th>\n",
              "      <th>carbs_RD_explanation</th>\n",
              "      <th>protein_RD_explanation</th>\n",
              "      <th>fat_RD_explanation</th>\n",
              "      <th>fiber_RD_explanation</th>\n",
              "      <th>calories_RD_explanation</th>\n",
              "    </tr>\n",
              "  </thead>\n",
              "  <tbody>\n",
              "    <tr>\n",
              "      <th>0</th>\n",
              "      <td>23</td>\n",
              "      <td>choose_plant_proteins</td>\n",
              "      <td>not_really</td>\n",
              "      <td>1660</td>\n",
              "      <td>en</td>\n",
              "      <td>9282</td>\n",
              "      <td>afternoon_snack</td>\n",
              "      <td>Pretzel</td>\n",
              "      <td>Pretzel</td>\n",
              "      <td>NaN</td>\n",
              "      <td>71.0</td>\n",
              "      <td>8.0</td>\n",
              "      <td>3.0</td>\n",
              "      <td>3.0</td>\n",
              "      <td>342.0</td>\n",
              "      <td>NaN</td>\n",
              "      <td>NaN</td>\n",
              "      <td>NaN</td>\n",
              "      <td>NaN</td>\n",
              "      <td>NaN</td>\n",
              "    </tr>\n",
              "    <tr>\n",
              "      <th>1</th>\n",
              "      <td>43</td>\n",
              "      <td>choose_plant_proteins</td>\n",
              "      <td>not_really</td>\n",
              "      <td>2068</td>\n",
              "      <td>en</td>\n",
              "      <td>3391</td>\n",
              "      <td>dinner</td>\n",
              "      <td>Salad with turkey burger</td>\n",
              "      <td>Turkey burger salad</td>\n",
              "      <td>This goal is not met because there are no plan...</td>\n",
              "      <td>6.0</td>\n",
              "      <td>23.0</td>\n",
              "      <td>14.0</td>\n",
              "      <td>3.0</td>\n",
              "      <td>251.0</td>\n",
              "      <td>na</td>\n",
              "      <td>na</td>\n",
              "      <td>na</td>\n",
              "      <td>na</td>\n",
              "      <td>na</td>\n",
              "    </tr>\n",
              "    <tr>\n",
              "      <th>2</th>\n",
              "      <td>43</td>\n",
              "      <td>choose_plant_proteins</td>\n",
              "      <td>not_really</td>\n",
              "      <td>2068</td>\n",
              "      <td>en</td>\n",
              "      <td>3405</td>\n",
              "      <td>lunch</td>\n",
              "      <td>Quinoa and vegetables</td>\n",
              "      <td>Quinoa and vegetables</td>\n",
              "      <td>This goal is not met because there are no plan...</td>\n",
              "      <td>44.0</td>\n",
              "      <td>8.0</td>\n",
              "      <td>12.0</td>\n",
              "      <td>6.0</td>\n",
              "      <td>306.0</td>\n",
              "      <td>NaN</td>\n",
              "      <td>na</td>\n",
              "      <td>na</td>\n",
              "      <td>na</td>\n",
              "      <td>na</td>\n",
              "    </tr>\n",
              "    <tr>\n",
              "      <th>3</th>\n",
              "      <td>43</td>\n",
              "      <td>choose_plant_proteins</td>\n",
              "      <td>not_really</td>\n",
              "      <td>2068</td>\n",
              "      <td>en</td>\n",
              "      <td>3415</td>\n",
              "      <td>dinner</td>\n",
              "      <td>Chicken with mixed vegetables</td>\n",
              "      <td>Chicken and salad</td>\n",
              "      <td>This goal is not met because there is no plant...</td>\n",
              "      <td>9.0</td>\n",
              "      <td>24.0</td>\n",
              "      <td>7.0</td>\n",
              "      <td>3.0</td>\n",
              "      <td>142.0</td>\n",
              "      <td>na</td>\n",
              "      <td>na</td>\n",
              "      <td>na</td>\n",
              "      <td>na</td>\n",
              "      <td>na</td>\n",
              "    </tr>\n",
              "    <tr>\n",
              "      <th>4</th>\n",
              "      <td>43</td>\n",
              "      <td>choose_plant_proteins</td>\n",
              "      <td>not_really</td>\n",
              "      <td>2068</td>\n",
              "      <td>en</td>\n",
              "      <td>3424</td>\n",
              "      <td>lunch</td>\n",
              "      <td>Salad ,sweet potatoes and avocado</td>\n",
              "      <td>Salad and sweet potatoes</td>\n",
              "      <td>This goal is not met because there are no plan...</td>\n",
              "      <td>51.0</td>\n",
              "      <td>4.0</td>\n",
              "      <td>11.0</td>\n",
              "      <td>13.0</td>\n",
              "      <td>300.0</td>\n",
              "      <td>na</td>\n",
              "      <td>na</td>\n",
              "      <td>na</td>\n",
              "      <td>na</td>\n",
              "      <td>na</td>\n",
              "    </tr>\n",
              "  </tbody>\n",
              "</table>\n",
              "</div>\n",
              "      <button class=\"colab-df-convert\" onclick=\"convertToInteractive('df-33786cc8-d541-4dc7-806d-8f2f5f57763e')\"\n",
              "              title=\"Convert this dataframe to an interactive table.\"\n",
              "              style=\"display:none;\">\n",
              "        \n",
              "  <svg xmlns=\"http://www.w3.org/2000/svg\" height=\"24px\"viewBox=\"0 0 24 24\"\n",
              "       width=\"24px\">\n",
              "    <path d=\"M0 0h24v24H0V0z\" fill=\"none\"/>\n",
              "    <path d=\"M18.56 5.44l.94 2.06.94-2.06 2.06-.94-2.06-.94-.94-2.06-.94 2.06-2.06.94zm-11 1L8.5 8.5l.94-2.06 2.06-.94-2.06-.94L8.5 2.5l-.94 2.06-2.06.94zm10 10l.94 2.06.94-2.06 2.06-.94-2.06-.94-.94-2.06-.94 2.06-2.06.94z\"/><path d=\"M17.41 7.96l-1.37-1.37c-.4-.4-.92-.59-1.43-.59-.52 0-1.04.2-1.43.59L10.3 9.45l-7.72 7.72c-.78.78-.78 2.05 0 2.83L4 21.41c.39.39.9.59 1.41.59.51 0 1.02-.2 1.41-.59l7.78-7.78 2.81-2.81c.8-.78.8-2.07 0-2.86zM5.41 20L4 18.59l7.72-7.72 1.47 1.35L5.41 20z\"/>\n",
              "  </svg>\n",
              "      </button>\n",
              "      \n",
              "  <style>\n",
              "    .colab-df-container {\n",
              "      display:flex;\n",
              "      flex-wrap:wrap;\n",
              "      gap: 12px;\n",
              "    }\n",
              "\n",
              "    .colab-df-convert {\n",
              "      background-color: #E8F0FE;\n",
              "      border: none;\n",
              "      border-radius: 50%;\n",
              "      cursor: pointer;\n",
              "      display: none;\n",
              "      fill: #1967D2;\n",
              "      height: 32px;\n",
              "      padding: 0 0 0 0;\n",
              "      width: 32px;\n",
              "    }\n",
              "\n",
              "    .colab-df-convert:hover {\n",
              "      background-color: #E2EBFA;\n",
              "      box-shadow: 0px 1px 2px rgba(60, 64, 67, 0.3), 0px 1px 3px 1px rgba(60, 64, 67, 0.15);\n",
              "      fill: #174EA6;\n",
              "    }\n",
              "\n",
              "    [theme=dark] .colab-df-convert {\n",
              "      background-color: #3B4455;\n",
              "      fill: #D2E3FC;\n",
              "    }\n",
              "\n",
              "    [theme=dark] .colab-df-convert:hover {\n",
              "      background-color: #434B5C;\n",
              "      box-shadow: 0px 1px 3px 1px rgba(0, 0, 0, 0.15);\n",
              "      filter: drop-shadow(0px 1px 2px rgba(0, 0, 0, 0.3));\n",
              "      fill: #FFFFFF;\n",
              "    }\n",
              "  </style>\n",
              "\n",
              "      <script>\n",
              "        const buttonEl =\n",
              "          document.querySelector('#df-33786cc8-d541-4dc7-806d-8f2f5f57763e button.colab-df-convert');\n",
              "        buttonEl.style.display =\n",
              "          google.colab.kernel.accessAllowed ? 'block' : 'none';\n",
              "\n",
              "        async function convertToInteractive(key) {\n",
              "          const element = document.querySelector('#df-33786cc8-d541-4dc7-806d-8f2f5f57763e');\n",
              "          const dataTable =\n",
              "            await google.colab.kernel.invokeFunction('convertToInteractive',\n",
              "                                                     [key], {});\n",
              "          if (!dataTable) return;\n",
              "\n",
              "          const docLinkHtml = 'Like what you see? Visit the ' +\n",
              "            '<a target=\"_blank\" href=https://colab.research.google.com/notebooks/data_table.ipynb>data table notebook</a>'\n",
              "            + ' to learn more about interactive tables.';\n",
              "          element.innerHTML = '';\n",
              "          dataTable['output_type'] = 'display_data';\n",
              "          await google.colab.output.renderOutput(dataTable, element);\n",
              "          const docLink = document.createElement('div');\n",
              "          docLink.innerHTML = docLinkHtml;\n",
              "          element.appendChild(docLink);\n",
              "        }\n",
              "      </script>\n",
              "    </div>\n",
              "  </div>\n",
              "  "
            ]
          },
          "metadata": {},
          "execution_count": 43
        }
      ]
    },
    {
      "cell_type": "code",
      "source": [
        "df1.drop(df1[df1.expert_assessment == 'not_really'].index, inplace=True)"
      ],
      "metadata": {
        "id": "SjJqBNBsXegc"
      },
      "execution_count": null,
      "outputs": []
    },
    {
      "cell_type": "code",
      "source": [
        "df1.drop(df1[df1.preferred_locale == 'es'].index, inplace=True)"
      ],
      "metadata": {
        "id": "WHuyHCgti9KD"
      },
      "execution_count": null,
      "outputs": []
    },
    {
      "cell_type": "code",
      "source": [
        "df1['meal_title'].drop_duplicates(inplace = True)"
      ],
      "metadata": {
        "id": "WKLOP8APXgHM"
      },
      "execution_count": null,
      "outputs": []
    },
    {
      "cell_type": "code",
      "source": [
        "df1['meal_ingredients'].dropna(inplace=True)"
      ],
      "metadata": {
        "id": "tnseJSQrXj9b"
      },
      "execution_count": null,
      "outputs": []
    },
    {
      "cell_type": "code",
      "source": [
        "df1.shape"
      ],
      "metadata": {
        "colab": {
          "base_uri": "https://localhost:8080/"
        },
        "id": "Llvt_pXTXlUj",
        "outputId": "8a235e02-353c-4e0f-99a4-971c11bfbd74"
      },
      "execution_count": null,
      "outputs": [
        {
          "output_type": "execute_result",
          "data": {
            "text/plain": [
              "(3531, 20)"
            ]
          },
          "metadata": {},
          "execution_count": 48
        }
      ]
    },
    {
      "cell_type": "code",
      "source": [
        "df1 = df1.drop(columns=['goal_id', 'user_id', 'meal_type', 'calories', 'expert_assessment', 'meal_id', 'carbs_grams', 'protein_grams','fat_grams', 'fiber_grams', 'carbs_RD_explanation', 'protein_RD_explanation', 'fat_RD_explanation', 'fiber_RD_explanation', 'calories_RD_explanation', 'preferred_locale', 'expert_explanation'])\n",
        "df1.head()"
      ],
      "metadata": {
        "colab": {
          "base_uri": "https://localhost:8080/",
          "height": 206
        },
        "id": "QQi-A1nXjFQt",
        "outputId": "856c1380-baae-4462-bfc0-50d35a44483f"
      },
      "execution_count": null,
      "outputs": [
        {
          "output_type": "execute_result",
          "data": {
            "text/plain": [
              "          goal_short_name                                         meal_title  \\\n",
              "9   choose_plant_proteins                                        Lentil soup   \n",
              "32  choose_plant_proteins   Italian bread with cream cheese and black coffee   \n",
              "33  choose_plant_proteins                        Spam,less sodium 25 percent   \n",
              "34  choose_plant_proteins        Rice,with beans ,avocado,chicken, and salad   \n",
              "87  choose_plant_proteins  Yellow rice with Gandules and BBQ ribs. Glass ...   \n",
              "\n",
              "                                     meal_ingredients  \n",
              "9                                         Lentil soup  \n",
              "32                              Splenda for my coffee  \n",
              "33            Chick peas , tomatoes, lettuce, avocado  \n",
              "34                 Salad,chicken,avocado and lemonade  \n",
              "87  Yellow rice with Gandules and BBQ ribs. 16 oz ...  "
            ],
            "text/html": [
              "\n",
              "  <div id=\"df-e8bba9df-487c-4212-a49e-5a13b9720fde\">\n",
              "    <div class=\"colab-df-container\">\n",
              "      <div>\n",
              "<style scoped>\n",
              "    .dataframe tbody tr th:only-of-type {\n",
              "        vertical-align: middle;\n",
              "    }\n",
              "\n",
              "    .dataframe tbody tr th {\n",
              "        vertical-align: top;\n",
              "    }\n",
              "\n",
              "    .dataframe thead th {\n",
              "        text-align: right;\n",
              "    }\n",
              "</style>\n",
              "<table border=\"1\" class=\"dataframe\">\n",
              "  <thead>\n",
              "    <tr style=\"text-align: right;\">\n",
              "      <th></th>\n",
              "      <th>goal_short_name</th>\n",
              "      <th>meal_title</th>\n",
              "      <th>meal_ingredients</th>\n",
              "    </tr>\n",
              "  </thead>\n",
              "  <tbody>\n",
              "    <tr>\n",
              "      <th>9</th>\n",
              "      <td>choose_plant_proteins</td>\n",
              "      <td>Lentil soup</td>\n",
              "      <td>Lentil soup</td>\n",
              "    </tr>\n",
              "    <tr>\n",
              "      <th>32</th>\n",
              "      <td>choose_plant_proteins</td>\n",
              "      <td>Italian bread with cream cheese and black coffee</td>\n",
              "      <td>Splenda for my coffee</td>\n",
              "    </tr>\n",
              "    <tr>\n",
              "      <th>33</th>\n",
              "      <td>choose_plant_proteins</td>\n",
              "      <td>Spam,less sodium 25 percent</td>\n",
              "      <td>Chick peas , tomatoes, lettuce, avocado</td>\n",
              "    </tr>\n",
              "    <tr>\n",
              "      <th>34</th>\n",
              "      <td>choose_plant_proteins</td>\n",
              "      <td>Rice,with beans ,avocado,chicken, and salad</td>\n",
              "      <td>Salad,chicken,avocado and lemonade</td>\n",
              "    </tr>\n",
              "    <tr>\n",
              "      <th>87</th>\n",
              "      <td>choose_plant_proteins</td>\n",
              "      <td>Yellow rice with Gandules and BBQ ribs. Glass ...</td>\n",
              "      <td>Yellow rice with Gandules and BBQ ribs. 16 oz ...</td>\n",
              "    </tr>\n",
              "  </tbody>\n",
              "</table>\n",
              "</div>\n",
              "      <button class=\"colab-df-convert\" onclick=\"convertToInteractive('df-e8bba9df-487c-4212-a49e-5a13b9720fde')\"\n",
              "              title=\"Convert this dataframe to an interactive table.\"\n",
              "              style=\"display:none;\">\n",
              "        \n",
              "  <svg xmlns=\"http://www.w3.org/2000/svg\" height=\"24px\"viewBox=\"0 0 24 24\"\n",
              "       width=\"24px\">\n",
              "    <path d=\"M0 0h24v24H0V0z\" fill=\"none\"/>\n",
              "    <path d=\"M18.56 5.44l.94 2.06.94-2.06 2.06-.94-2.06-.94-.94-2.06-.94 2.06-2.06.94zm-11 1L8.5 8.5l.94-2.06 2.06-.94-2.06-.94L8.5 2.5l-.94 2.06-2.06.94zm10 10l.94 2.06.94-2.06 2.06-.94-2.06-.94-.94-2.06-.94 2.06-2.06.94z\"/><path d=\"M17.41 7.96l-1.37-1.37c-.4-.4-.92-.59-1.43-.59-.52 0-1.04.2-1.43.59L10.3 9.45l-7.72 7.72c-.78.78-.78 2.05 0 2.83L4 21.41c.39.39.9.59 1.41.59.51 0 1.02-.2 1.41-.59l7.78-7.78 2.81-2.81c.8-.78.8-2.07 0-2.86zM5.41 20L4 18.59l7.72-7.72 1.47 1.35L5.41 20z\"/>\n",
              "  </svg>\n",
              "      </button>\n",
              "      \n",
              "  <style>\n",
              "    .colab-df-container {\n",
              "      display:flex;\n",
              "      flex-wrap:wrap;\n",
              "      gap: 12px;\n",
              "    }\n",
              "\n",
              "    .colab-df-convert {\n",
              "      background-color: #E8F0FE;\n",
              "      border: none;\n",
              "      border-radius: 50%;\n",
              "      cursor: pointer;\n",
              "      display: none;\n",
              "      fill: #1967D2;\n",
              "      height: 32px;\n",
              "      padding: 0 0 0 0;\n",
              "      width: 32px;\n",
              "    }\n",
              "\n",
              "    .colab-df-convert:hover {\n",
              "      background-color: #E2EBFA;\n",
              "      box-shadow: 0px 1px 2px rgba(60, 64, 67, 0.3), 0px 1px 3px 1px rgba(60, 64, 67, 0.15);\n",
              "      fill: #174EA6;\n",
              "    }\n",
              "\n",
              "    [theme=dark] .colab-df-convert {\n",
              "      background-color: #3B4455;\n",
              "      fill: #D2E3FC;\n",
              "    }\n",
              "\n",
              "    [theme=dark] .colab-df-convert:hover {\n",
              "      background-color: #434B5C;\n",
              "      box-shadow: 0px 1px 3px 1px rgba(0, 0, 0, 0.15);\n",
              "      filter: drop-shadow(0px 1px 2px rgba(0, 0, 0, 0.3));\n",
              "      fill: #FFFFFF;\n",
              "    }\n",
              "  </style>\n",
              "\n",
              "      <script>\n",
              "        const buttonEl =\n",
              "          document.querySelector('#df-e8bba9df-487c-4212-a49e-5a13b9720fde button.colab-df-convert');\n",
              "        buttonEl.style.display =\n",
              "          google.colab.kernel.accessAllowed ? 'block' : 'none';\n",
              "\n",
              "        async function convertToInteractive(key) {\n",
              "          const element = document.querySelector('#df-e8bba9df-487c-4212-a49e-5a13b9720fde');\n",
              "          const dataTable =\n",
              "            await google.colab.kernel.invokeFunction('convertToInteractive',\n",
              "                                                     [key], {});\n",
              "          if (!dataTable) return;\n",
              "\n",
              "          const docLinkHtml = 'Like what you see? Visit the ' +\n",
              "            '<a target=\"_blank\" href=https://colab.research.google.com/notebooks/data_table.ipynb>data table notebook</a>'\n",
              "            + ' to learn more about interactive tables.';\n",
              "          element.innerHTML = '';\n",
              "          dataTable['output_type'] = 'display_data';\n",
              "          await google.colab.output.renderOutput(dataTable, element);\n",
              "          const docLink = document.createElement('div');\n",
              "          docLink.innerHTML = docLinkHtml;\n",
              "          element.appendChild(docLink);\n",
              "        }\n",
              "      </script>\n",
              "    </div>\n",
              "  </div>\n",
              "  "
            ]
          },
          "metadata": {},
          "execution_count": 49
        }
      ]
    },
    {
      "cell_type": "code",
      "source": [
        "nltk.download('stopwords')\n",
        "nltk.download('wordnet')\n",
        "stop_words = stopwords.words('english')"
      ],
      "metadata": {
        "colab": {
          "base_uri": "https://localhost:8080/"
        },
        "id": "Ik2tbVTpjVjs",
        "outputId": "b282f4bc-96a4-459f-f619-494ff7c10489"
      },
      "execution_count": null,
      "outputs": [
        {
          "output_type": "stream",
          "name": "stdout",
          "text": [
            "[nltk_data] Downloading package stopwords to /root/nltk_data...\n",
            "[nltk_data]   Unzipping corpora/stopwords.zip.\n",
            "[nltk_data] Downloading package wordnet to /root/nltk_data...\n",
            "[nltk_data]   Unzipping corpora/wordnet.zip.\n"
          ]
        }
      ]
    },
    {
      "cell_type": "code",
      "source": [
        "def preprocess_meals(meal):\n",
        "    processed_meal = meal\n",
        "    processed_meal.replace('[^\\w\\s]', '')\n",
        "    processed_meal = \" \".join(word for word in processed_meal.split() if word not in stop_words)\n",
        "    processed_meal = \" \".join(Word(word).lemmatize() for word in processed_meal.split())\n",
        "    return(processed_meal)"
      ],
      "metadata": {
        "id": "zSwy66Q3jVmG"
      },
      "execution_count": null,
      "outputs": []
    },
    {
      "cell_type": "code",
      "source": [
        "df1['meal_ingredients'] = df1['meal_ingredients'].apply(lambda x: preprocess_meals(str(x)))"
      ],
      "metadata": {
        "id": "YIHbdFV0jVq_"
      },
      "execution_count": null,
      "outputs": []
    },
    {
      "cell_type": "code",
      "source": [
        "df1['meal_ingredients']"
      ],
      "metadata": {
        "colab": {
          "base_uri": "https://localhost:8080/"
        },
        "id": "pWtsuz33jfaQ",
        "outputId": "facca9af-a486-4585-a7b2-017739327b38"
      },
      "execution_count": null,
      "outputs": [
        {
          "output_type": "execute_result",
          "data": {
            "text/plain": [
              "9                                              Lentil soup\n",
              "32                                          Splenda coffee\n",
              "33                  Chick pea , tomatoes, lettuce, avocado\n",
              "34                          Salad,chicken,avocado lemonade\n",
              "87          Yellow rice Gandules BBQ ribs. 16 oz glass V8.\n",
              "                               ...                        \n",
              "18313    Chicken patty, wholewheat wrap ,mozzarella cheese\n",
              "18316    Bowl oatmeal, 2 x hard-boiled egg 16 oz bottle...\n",
              "18319                                              Oatmeal\n",
              "18335    Whiting fish sandwich 1 x tablespoon tartar ho...\n",
              "18340    Bowl Minestrone soup, 2 x slice whole wheat br...\n",
              "Name: meal_ingredients, Length: 3531, dtype: object"
            ]
          },
          "metadata": {},
          "execution_count": 53
        }
      ]
    },
    {
      "cell_type": "code",
      "source": [
        "df1.meal_ingredients = df1.meal_ingredients.apply(gensim.utils.simple_preprocess)"
      ],
      "metadata": {
        "id": "gSoiVK2Cjkh6"
      },
      "execution_count": null,
      "outputs": []
    },
    {
      "cell_type": "code",
      "source": [
        "df1['meal_ingredients']"
      ],
      "metadata": {
        "colab": {
          "base_uri": "https://localhost:8080/"
        },
        "id": "AY6zyIaHjmYH",
        "outputId": "9fdbe469-fd2e-4431-b6ec-662da21cd573"
      },
      "execution_count": null,
      "outputs": [
        {
          "output_type": "execute_result",
          "data": {
            "text/plain": [
              "9                                           [lentil, soup]\n",
              "32                                       [splenda, coffee]\n",
              "33                [chick, pea, tomatoes, lettuce, avocado]\n",
              "34                     [salad, chicken, avocado, lemonade]\n",
              "87          [yellow, rice, gandules, bbq, ribs, oz, glass]\n",
              "                               ...                        \n",
              "18313    [chicken, patty, wholewheat, wrap, mozzarella,...\n",
              "18316    [bowl, oatmeal, hard, boiled, egg, oz, bottle,...\n",
              "18319                                            [oatmeal]\n",
              "18335    [whiting, fish, sandwich, tablespoon, tartar, ...\n",
              "18340    [bowl, minestrone, soup, slice, whole, wheat, ...\n",
              "Name: meal_ingredients, Length: 3531, dtype: object"
            ]
          },
          "metadata": {},
          "execution_count": 55
        }
      ]
    },
    {
      "cell_type": "code",
      "source": [
        "df1.head()"
      ],
      "metadata": {
        "colab": {
          "base_uri": "https://localhost:8080/",
          "height": 206
        },
        "id": "EkTkqTcHjp9c",
        "outputId": "b3ddc7be-9a13-4351-fe01-f6ddbefbd9b1"
      },
      "execution_count": null,
      "outputs": [
        {
          "output_type": "execute_result",
          "data": {
            "text/plain": [
              "          goal_short_name                                         meal_title  \\\n",
              "9   choose_plant_proteins                                        Lentil soup   \n",
              "32  choose_plant_proteins   Italian bread with cream cheese and black coffee   \n",
              "33  choose_plant_proteins                        Spam,less sodium 25 percent   \n",
              "34  choose_plant_proteins        Rice,with beans ,avocado,chicken, and salad   \n",
              "87  choose_plant_proteins  Yellow rice with Gandules and BBQ ribs. Glass ...   \n",
              "\n",
              "                                  meal_ingredients  \n",
              "9                                   [lentil, soup]  \n",
              "32                               [splenda, coffee]  \n",
              "33        [chick, pea, tomatoes, lettuce, avocado]  \n",
              "34             [salad, chicken, avocado, lemonade]  \n",
              "87  [yellow, rice, gandules, bbq, ribs, oz, glass]  "
            ],
            "text/html": [
              "\n",
              "  <div id=\"df-0af448aa-f85a-4fbf-9a0b-9e2a72f0c143\">\n",
              "    <div class=\"colab-df-container\">\n",
              "      <div>\n",
              "<style scoped>\n",
              "    .dataframe tbody tr th:only-of-type {\n",
              "        vertical-align: middle;\n",
              "    }\n",
              "\n",
              "    .dataframe tbody tr th {\n",
              "        vertical-align: top;\n",
              "    }\n",
              "\n",
              "    .dataframe thead th {\n",
              "        text-align: right;\n",
              "    }\n",
              "</style>\n",
              "<table border=\"1\" class=\"dataframe\">\n",
              "  <thead>\n",
              "    <tr style=\"text-align: right;\">\n",
              "      <th></th>\n",
              "      <th>goal_short_name</th>\n",
              "      <th>meal_title</th>\n",
              "      <th>meal_ingredients</th>\n",
              "    </tr>\n",
              "  </thead>\n",
              "  <tbody>\n",
              "    <tr>\n",
              "      <th>9</th>\n",
              "      <td>choose_plant_proteins</td>\n",
              "      <td>Lentil soup</td>\n",
              "      <td>[lentil, soup]</td>\n",
              "    </tr>\n",
              "    <tr>\n",
              "      <th>32</th>\n",
              "      <td>choose_plant_proteins</td>\n",
              "      <td>Italian bread with cream cheese and black coffee</td>\n",
              "      <td>[splenda, coffee]</td>\n",
              "    </tr>\n",
              "    <tr>\n",
              "      <th>33</th>\n",
              "      <td>choose_plant_proteins</td>\n",
              "      <td>Spam,less sodium 25 percent</td>\n",
              "      <td>[chick, pea, tomatoes, lettuce, avocado]</td>\n",
              "    </tr>\n",
              "    <tr>\n",
              "      <th>34</th>\n",
              "      <td>choose_plant_proteins</td>\n",
              "      <td>Rice,with beans ,avocado,chicken, and salad</td>\n",
              "      <td>[salad, chicken, avocado, lemonade]</td>\n",
              "    </tr>\n",
              "    <tr>\n",
              "      <th>87</th>\n",
              "      <td>choose_plant_proteins</td>\n",
              "      <td>Yellow rice with Gandules and BBQ ribs. Glass ...</td>\n",
              "      <td>[yellow, rice, gandules, bbq, ribs, oz, glass]</td>\n",
              "    </tr>\n",
              "  </tbody>\n",
              "</table>\n",
              "</div>\n",
              "      <button class=\"colab-df-convert\" onclick=\"convertToInteractive('df-0af448aa-f85a-4fbf-9a0b-9e2a72f0c143')\"\n",
              "              title=\"Convert this dataframe to an interactive table.\"\n",
              "              style=\"display:none;\">\n",
              "        \n",
              "  <svg xmlns=\"http://www.w3.org/2000/svg\" height=\"24px\"viewBox=\"0 0 24 24\"\n",
              "       width=\"24px\">\n",
              "    <path d=\"M0 0h24v24H0V0z\" fill=\"none\"/>\n",
              "    <path d=\"M18.56 5.44l.94 2.06.94-2.06 2.06-.94-2.06-.94-.94-2.06-.94 2.06-2.06.94zm-11 1L8.5 8.5l.94-2.06 2.06-.94-2.06-.94L8.5 2.5l-.94 2.06-2.06.94zm10 10l.94 2.06.94-2.06 2.06-.94-2.06-.94-.94-2.06-.94 2.06-2.06.94z\"/><path d=\"M17.41 7.96l-1.37-1.37c-.4-.4-.92-.59-1.43-.59-.52 0-1.04.2-1.43.59L10.3 9.45l-7.72 7.72c-.78.78-.78 2.05 0 2.83L4 21.41c.39.39.9.59 1.41.59.51 0 1.02-.2 1.41-.59l7.78-7.78 2.81-2.81c.8-.78.8-2.07 0-2.86zM5.41 20L4 18.59l7.72-7.72 1.47 1.35L5.41 20z\"/>\n",
              "  </svg>\n",
              "      </button>\n",
              "      \n",
              "  <style>\n",
              "    .colab-df-container {\n",
              "      display:flex;\n",
              "      flex-wrap:wrap;\n",
              "      gap: 12px;\n",
              "    }\n",
              "\n",
              "    .colab-df-convert {\n",
              "      background-color: #E8F0FE;\n",
              "      border: none;\n",
              "      border-radius: 50%;\n",
              "      cursor: pointer;\n",
              "      display: none;\n",
              "      fill: #1967D2;\n",
              "      height: 32px;\n",
              "      padding: 0 0 0 0;\n",
              "      width: 32px;\n",
              "    }\n",
              "\n",
              "    .colab-df-convert:hover {\n",
              "      background-color: #E2EBFA;\n",
              "      box-shadow: 0px 1px 2px rgba(60, 64, 67, 0.3), 0px 1px 3px 1px rgba(60, 64, 67, 0.15);\n",
              "      fill: #174EA6;\n",
              "    }\n",
              "\n",
              "    [theme=dark] .colab-df-convert {\n",
              "      background-color: #3B4455;\n",
              "      fill: #D2E3FC;\n",
              "    }\n",
              "\n",
              "    [theme=dark] .colab-df-convert:hover {\n",
              "      background-color: #434B5C;\n",
              "      box-shadow: 0px 1px 3px 1px rgba(0, 0, 0, 0.15);\n",
              "      filter: drop-shadow(0px 1px 2px rgba(0, 0, 0, 0.3));\n",
              "      fill: #FFFFFF;\n",
              "    }\n",
              "  </style>\n",
              "\n",
              "      <script>\n",
              "        const buttonEl =\n",
              "          document.querySelector('#df-0af448aa-f85a-4fbf-9a0b-9e2a72f0c143 button.colab-df-convert');\n",
              "        buttonEl.style.display =\n",
              "          google.colab.kernel.accessAllowed ? 'block' : 'none';\n",
              "\n",
              "        async function convertToInteractive(key) {\n",
              "          const element = document.querySelector('#df-0af448aa-f85a-4fbf-9a0b-9e2a72f0c143');\n",
              "          const dataTable =\n",
              "            await google.colab.kernel.invokeFunction('convertToInteractive',\n",
              "                                                     [key], {});\n",
              "          if (!dataTable) return;\n",
              "\n",
              "          const docLinkHtml = 'Like what you see? Visit the ' +\n",
              "            '<a target=\"_blank\" href=https://colab.research.google.com/notebooks/data_table.ipynb>data table notebook</a>'\n",
              "            + ' to learn more about interactive tables.';\n",
              "          element.innerHTML = '';\n",
              "          dataTable['output_type'] = 'display_data';\n",
              "          await google.colab.output.renderOutput(dataTable, element);\n",
              "          const docLink = document.createElement('div');\n",
              "          docLink.innerHTML = docLinkHtml;\n",
              "          element.appendChild(docLink);\n",
              "        }\n",
              "      </script>\n",
              "    </div>\n",
              "  </div>\n",
              "  "
            ]
          },
          "metadata": {},
          "execution_count": 56
        }
      ]
    },
    {
      "cell_type": "code",
      "source": [
        "dict4 = {}\n",
        "\n",
        "for goal_short_name, meal_title, meal_ingredients in df1.itertuples(index=False):\n",
        "  if goal_short_name not in dict4:\n",
        "    dict4[goal_short_name] = {meal_title:meal_ingredients}\n",
        "\n",
        "  else:\n",
        "    dict4[goal_short_name][meal_title] = meal_ingredients"
      ],
      "metadata": {
        "id": "w01_8ejYjr5B"
      },
      "execution_count": null,
      "outputs": []
    },
    {
      "cell_type": "code",
      "source": [
        "def predictionfunction(userid, goal):\n",
        "  dict1 = {}\n",
        "  for j in data['meal_ingredients']:\n",
        "    dict1[j] = svd.predict(uid = userid, iid = j).est\n",
        "    # Keymax = max(zip(dict1.values(), dict1.keys()))[2]\n",
        "    res = nlargest(10, dict1, key = dict1.get)\n",
        "\n",
        "\n",
        "  dict2 = {}\n",
        "  for key in dict4[goal]:\n",
        "    score = len(set(res) & set(dict4[goal][key])) / float(len(set(res) | set(dict4[goal][key]))) * 100\n",
        "    dict2[key] = score\n",
        "\n",
        "  # max_value = max(dict2, key=dict2.get)\n",
        "  rec_meals = nlargest(5, dict2, key = dict2.get)\n",
        "\n",
        "\n",
        "  return rec_meals"
      ],
      "metadata": {
        "id": "r6kr0jg2jr_-"
      },
      "execution_count": null,
      "outputs": []
    },
    {
      "cell_type": "code",
      "source": [
        "print(predictionfunction(1821, 'choose_plant_proteins'))"
      ],
      "metadata": {
        "colab": {
          "base_uri": "https://localhost:8080/"
        },
        "id": "rSE-iZtWjsDO",
        "outputId": "64b9b7f4-afd5-4e8c-e16a-6308ba9a7a31"
      },
      "execution_count": null,
      "outputs": [
        {
          "output_type": "stream",
          "name": "stdout",
          "text": [
            "['Yellow rice with red beans, steak with onions. Mixed salad and bottle of water.', 'Stir fry burrito', 'Cobb salad', 'Rice,with beans ,avocado,chicken, and salad', 'Spam,less sodium 25 percent']\n"
          ]
        }
      ]
    },
    {
      "cell_type": "code",
      "source": [
        "print(predictionfunction(2068, 'choose_plant_proteins'))"
      ],
      "metadata": {
        "colab": {
          "base_uri": "https://localhost:8080/"
        },
        "id": "8w29Lgz3jsGo",
        "outputId": "d7e1b47e-ff31-4f39-fd1e-0c6475bbfba5"
      },
      "execution_count": null,
      "outputs": [
        {
          "output_type": "stream",
          "name": "stdout",
          "text": [
            "['Yellow rice with red beans, steak with onions. Mixed salad and bottle of water.', 'Morning Snack', 'Rice,with beans ,avocado,chicken, and salad', 'Kidney beans, left over 1/2 of breakfast.', 'Sandwich']\n"
          ]
        }
      ]
    },
    {
      "cell_type": "code",
      "source": [
        "print(predictionfunction(2312, 'choose_whole_grain_carbs'))"
      ],
      "metadata": {
        "colab": {
          "base_uri": "https://localhost:8080/"
        },
        "id": "r_dW3JC_jsLT",
        "outputId": "641c8d3a-4e82-44ba-a719-b3eccb7d63fa"
      },
      "execution_count": null,
      "outputs": [
        {
          "output_type": "stream",
          "name": "stdout",
          "text": [
            "['Bread cheese eggs milk', 'Eggs', 'Soup', 'Whole wheat bread with egg and ginger ale', 'Cheese bread milk apple']\n"
          ]
        }
      ]
    }
  ]
}